{
 "cells": [
  {
   "cell_type": "markdown",
   "metadata": {
    "application/vnd.databricks.v1+cell": {
     "cellMetadata": {
      "byteLimit": 2048000,
      "rowLimit": 10000
     },
     "inputWidgets": {},
     "nuid": "2345ea1a-0769-41a7-b945-d528868124f0",
     "showTitle": false,
     "title": ""
    }
   },
   "source": [
    "Running this notebook will ensure the [Workspace Files](https://docs.databricks.com/en/files/index.html) feature is enabled. It is idempotent and can be re-run safely."
   ]
  },
  {
   "cell_type": "code",
   "execution_count": 0,
   "metadata": {
    "application/vnd.databricks.v1+cell": {
     "cellMetadata": {
      "byteLimit": 2048000,
      "rowLimit": 10000
     },
     "inputWidgets": {},
     "nuid": "d051b98c-2927-4a81-b133-d7d898234076",
     "showTitle": false,
     "title": ""
    }
   },
   "outputs": [
    {
     "output_type": "execute_result",
     "data": {
      "text/plain": [
       "{'enableWorkspaceFilesystem': 'dbr11.0+'}"
      ]
     },
     "execution_count": 1,
     "metadata": {},
     "output_type": "execute_result"
    }
   ],
   "source": [
    "from databricks.sdk.core import (ApiClient, Config, HeaderFactory,\n",
    "                                 credentials_provider)\n",
    "from databricks.sdk.service.iam import CurrentUserAPI\n",
    "\n",
    "\n",
    "@credentials_provider(\"custom\", [\"host\"])\n",
    "def user_input_token(cfg: Config) -> HeaderFactory:\n",
    "    pat = \"<replace everything between quotes with your PAT>\"\n",
    "\n",
    "    def inner() -> dict[str, str]:\n",
    "        return {\"Authorization\": f\"Bearer {pat}\"}\n",
    "\n",
    "    return inner\n",
    "\n",
    "\n",
    "host = \"<replace everything between quotes with url in workspace from the https:// all the way to the .net/>\"\n",
    "\n",
    "cfg = Config(host=host, credentials_provider=user_input_token)\n",
    "\n",
    "client = ApiClient(cfg)\n",
    "client.do(\"GET\", \"/api/2.0/workspace-conf\", {\"keys\": \"enableWorkspaceFilesystem\"})\n"
   ]
  },
  {
   "cell_type": "code",
   "execution_count": 0,
   "metadata": {
    "application/vnd.databricks.v1+cell": {
     "cellMetadata": {},
     "inputWidgets": {},
     "nuid": "74607e47-45b7-4e76-b430-50f571aff4e3",
     "showTitle": false,
     "title": ""
    }
   },
   "outputs": [],
   "source": [
    "client.do(\"PATCH\", \"/api/2.0/workspace-conf\", body={\"enableWorkspaceFilesystem\": \"true\"}, headers={\"Content-Type\": \"application/json\"})"
   ]
  },
  {
   "cell_type": "code",
   "execution_count": 0,
   "metadata": {
    "application/vnd.databricks.v1+cell": {
     "cellMetadata": {},
     "inputWidgets": {},
     "nuid": "78d9c37f-98e6-411c-a840-77b517d3277e",
     "showTitle": false,
     "title": ""
    }
   },
   "outputs": [],
   "source": [
    "client.do(\"GET\", \"/api/2.0/workspace-conf\", {\"keys\": \"enableWorkspaceFilesystem\"})"
   ]
  }
 ],
 "metadata": {
  "application/vnd.databricks.v1+notebook": {
   "dashboards": [],
   "language": "python",
   "notebookMetadata": {
    "pythonIndentUnit": 4
   },
   "notebookName": "turn-on-files",
   "widgets": {}
  }
 },
 "nbformat": 4,
 "nbformat_minor": 0
}
